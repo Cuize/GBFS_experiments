{
 "cells": [
  {
   "cell_type": "code",
   "execution_count": 1,
   "metadata": {},
   "outputs": [],
   "source": [
    "import pandas as pd\n",
    "import numpy as np"
   ]
  },
  {
   "cell_type": "code",
   "execution_count": 2,
   "metadata": {},
   "outputs": [],
   "source": [
    "# tuning\n",
    "tuning=pd.read_csv(\"result/gold_in_qa_split/tuning.txt\",sep=\" \")"
   ]
  },
  {
   "cell_type": "code",
   "execution_count": 3,
   "metadata": {},
   "outputs": [],
   "source": [
    "cumu_time=tuning[\"time\"]"
   ]
  },
  {
   "cell_type": "code",
   "execution_count": 4,
   "metadata": {},
   "outputs": [],
   "source": [
    "excute_time=[ cumu_time[i] if i==0 else cumu_time[i]-cumu_time[i-1] for i in range(len(cumu_time)) ]"
   ]
  },
  {
   "cell_type": "code",
   "execution_count": 5,
   "metadata": {},
   "outputs": [],
   "source": [
    "tuning[\"excute_time\"]=excute_time"
   ]
  },
  {
   "cell_type": "code",
   "execution_count": 6,
   "metadata": {},
   "outputs": [
    {
     "data": {
      "text/html": [
       "<div>\n",
       "<style scoped>\n",
       "    .dataframe tbody tr th:only-of-type {\n",
       "        vertical-align: middle;\n",
       "    }\n",
       "\n",
       "    .dataframe tbody tr th {\n",
       "        vertical-align: top;\n",
       "    }\n",
       "\n",
       "    .dataframe thead th {\n",
       "        text-align: right;\n",
       "    }\n",
       "</style>\n",
       "<table border=\"1\" class=\"dataframe\">\n",
       "  <thead>\n",
       "    <tr style=\"text-align: right;\">\n",
       "      <th></th>\n",
       "      <th>name</th>\n",
       "      <th>mu</th>\n",
       "      <th>shrinkage</th>\n",
       "      <th>alpha</th>\n",
       "      <th>iteration</th>\n",
       "      <th>number_of_features</th>\n",
       "      <th>RMSE</th>\n",
       "      <th>time</th>\n",
       "      <th>excute_time</th>\n",
       "    </tr>\n",
       "  </thead>\n",
       "  <tbody>\n",
       "    <tr>\n",
       "      <th>0</th>\n",
       "      <td>GBDTBTt</td>\n",
       "      <td>0.0</td>\n",
       "      <td>0.10</td>\n",
       "      <td>0.0</td>\n",
       "      <td>50</td>\n",
       "      <td>20</td>\n",
       "      <td>0.315876</td>\n",
       "      <td>150</td>\n",
       "      <td>150</td>\n",
       "    </tr>\n",
       "    <tr>\n",
       "      <th>1</th>\n",
       "      <td>GBDTBTt</td>\n",
       "      <td>0.0</td>\n",
       "      <td>0.10</td>\n",
       "      <td>0.0</td>\n",
       "      <td>100</td>\n",
       "      <td>20</td>\n",
       "      <td>0.318941</td>\n",
       "      <td>305</td>\n",
       "      <td>155</td>\n",
       "    </tr>\n",
       "    <tr>\n",
       "      <th>2</th>\n",
       "      <td>GBDTBTt</td>\n",
       "      <td>0.0</td>\n",
       "      <td>0.10</td>\n",
       "      <td>0.0</td>\n",
       "      <td>200</td>\n",
       "      <td>20</td>\n",
       "      <td>0.318260</td>\n",
       "      <td>646</td>\n",
       "      <td>341</td>\n",
       "    </tr>\n",
       "    <tr>\n",
       "      <th>3</th>\n",
       "      <td>GBDTBTt</td>\n",
       "      <td>0.0</td>\n",
       "      <td>0.05</td>\n",
       "      <td>0.0</td>\n",
       "      <td>50</td>\n",
       "      <td>20</td>\n",
       "      <td>0.313231</td>\n",
       "      <td>716</td>\n",
       "      <td>70</td>\n",
       "    </tr>\n",
       "    <tr>\n",
       "      <th>4</th>\n",
       "      <td>GBDTBTt</td>\n",
       "      <td>0.0</td>\n",
       "      <td>0.05</td>\n",
       "      <td>0.0</td>\n",
       "      <td>100</td>\n",
       "      <td>20</td>\n",
       "      <td>0.312098</td>\n",
       "      <td>854</td>\n",
       "      <td>138</td>\n",
       "    </tr>\n",
       "  </tbody>\n",
       "</table>\n",
       "</div>"
      ],
      "text/plain": [
       "      name   mu  shrinkage  alpha  iteration  number_of_features      RMSE  \\\n",
       "0  GBDTBTt  0.0       0.10    0.0         50                  20  0.315876   \n",
       "1  GBDTBTt  0.0       0.10    0.0        100                  20  0.318941   \n",
       "2  GBDTBTt  0.0       0.10    0.0        200                  20  0.318260   \n",
       "3  GBDTBTt  0.0       0.05    0.0         50                  20  0.313231   \n",
       "4  GBDTBTt  0.0       0.05    0.0        100                  20  0.312098   \n",
       "\n",
       "   time  excute_time  \n",
       "0   150          150  \n",
       "1   305          155  \n",
       "2   646          341  \n",
       "3   716           70  \n",
       "4   854          138  "
      ]
     },
     "execution_count": 6,
     "metadata": {},
     "output_type": "execute_result"
    }
   ],
   "source": [
    "tuning.head()"
   ]
  },
  {
   "cell_type": "code",
   "execution_count": 7,
   "metadata": {},
   "outputs": [],
   "source": [
    "tuning.sort_values(by=\"RMSE\",inplace=True)"
   ]
  },
  {
   "cell_type": "code",
   "execution_count": 8,
   "metadata": {},
   "outputs": [],
   "source": [
    "BTt=tuning[tuning[\"name\"]==\"GBDTBTt\"]"
   ]
  },
  {
   "cell_type": "code",
   "execution_count": 9,
   "metadata": {},
   "outputs": [],
   "source": [
    "GBFS=tuning[tuning[\"name\"]==\"GBFS_model\"]\n",
    "GBFS_adapt=tuning[tuning[\"name\"]==\"GBFS_adapt_model\"]"
   ]
  },
  {
   "cell_type": "code",
   "execution_count": 10,
   "metadata": {},
   "outputs": [
    {
     "data": {
      "text/plain": [
       "159.15555555555557"
      ]
     },
     "execution_count": 10,
     "metadata": {},
     "output_type": "execute_result"
    }
   ],
   "source": [
    "GBFS[\"excute_time\"].mean()"
   ]
  },
  {
   "cell_type": "code",
   "execution_count": 11,
   "metadata": {},
   "outputs": [
    {
     "data": {
      "text/plain": [
       "155.8266129032258"
      ]
     },
     "execution_count": 11,
     "metadata": {},
     "output_type": "execute_result"
    }
   ],
   "source": [
    "GBFS_adapt[\"excute_time\"].mean()"
   ]
  },
  {
   "cell_type": "code",
   "execution_count": 12,
   "metadata": {},
   "outputs": [
    {
     "data": {
      "text/plain": [
       "80.75"
      ]
     },
     "execution_count": 12,
     "metadata": {},
     "output_type": "execute_result"
    }
   ],
   "source": [
    "BTt[\"excute_time\"].mean()"
   ]
  },
  {
   "cell_type": "code",
   "execution_count": 13,
   "metadata": {},
   "outputs": [
    {
     "data": {
      "text/html": [
       "<div>\n",
       "<style scoped>\n",
       "    .dataframe tbody tr th:only-of-type {\n",
       "        vertical-align: middle;\n",
       "    }\n",
       "\n",
       "    .dataframe tbody tr th {\n",
       "        vertical-align: top;\n",
       "    }\n",
       "\n",
       "    .dataframe thead th {\n",
       "        text-align: right;\n",
       "    }\n",
       "</style>\n",
       "<table border=\"1\" class=\"dataframe\">\n",
       "  <thead>\n",
       "    <tr style=\"text-align: right;\">\n",
       "      <th></th>\n",
       "      <th>name</th>\n",
       "      <th>mu</th>\n",
       "      <th>shrinkage</th>\n",
       "      <th>alpha</th>\n",
       "      <th>iteration</th>\n",
       "      <th>number_of_features</th>\n",
       "      <th>RMSE</th>\n",
       "      <th>time</th>\n",
       "      <th>excute_time</th>\n",
       "    </tr>\n",
       "  </thead>\n",
       "  <tbody>\n",
       "    <tr>\n",
       "      <th>686</th>\n",
       "      <td>GBFS_model</td>\n",
       "      <td>8.0</td>\n",
       "      <td>0.10</td>\n",
       "      <td>0.05</td>\n",
       "      <td>200</td>\n",
       "      <td>30</td>\n",
       "      <td>0.294307</td>\n",
       "      <td>112401</td>\n",
       "      <td>231</td>\n",
       "    </tr>\n",
       "    <tr>\n",
       "      <th>377</th>\n",
       "      <td>GBFS_model</td>\n",
       "      <td>2.0</td>\n",
       "      <td>0.05</td>\n",
       "      <td>0.01</td>\n",
       "      <td>200</td>\n",
       "      <td>51</td>\n",
       "      <td>0.294337</td>\n",
       "      <td>71753</td>\n",
       "      <td>264</td>\n",
       "    </tr>\n",
       "    <tr>\n",
       "      <th>530</th>\n",
       "      <td>GBFS_model</td>\n",
       "      <td>4.0</td>\n",
       "      <td>0.10</td>\n",
       "      <td>0.02</td>\n",
       "      <td>200</td>\n",
       "      <td>39</td>\n",
       "      <td>0.294592</td>\n",
       "      <td>92412</td>\n",
       "      <td>258</td>\n",
       "    </tr>\n",
       "    <tr>\n",
       "      <th>662</th>\n",
       "      <td>GBFS_model</td>\n",
       "      <td>2.0</td>\n",
       "      <td>0.10</td>\n",
       "      <td>0.05</td>\n",
       "      <td>200</td>\n",
       "      <td>45</td>\n",
       "      <td>0.295124</td>\n",
       "      <td>109310</td>\n",
       "      <td>230</td>\n",
       "    </tr>\n",
       "    <tr>\n",
       "      <th>818</th>\n",
       "      <td>GBFS_model</td>\n",
       "      <td>4.0</td>\n",
       "      <td>0.10</td>\n",
       "      <td>0.10</td>\n",
       "      <td>200</td>\n",
       "      <td>34</td>\n",
       "      <td>0.295218</td>\n",
       "      <td>128054</td>\n",
       "      <td>210</td>\n",
       "    </tr>\n",
       "  </tbody>\n",
       "</table>\n",
       "</div>"
      ],
      "text/plain": [
       "           name   mu  shrinkage  alpha  iteration  number_of_features  \\\n",
       "686  GBFS_model  8.0       0.10   0.05        200                  30   \n",
       "377  GBFS_model  2.0       0.05   0.01        200                  51   \n",
       "530  GBFS_model  4.0       0.10   0.02        200                  39   \n",
       "662  GBFS_model  2.0       0.10   0.05        200                  45   \n",
       "818  GBFS_model  4.0       0.10   0.10        200                  34   \n",
       "\n",
       "         RMSE    time  excute_time  \n",
       "686  0.294307  112401          231  \n",
       "377  0.294337   71753          264  \n",
       "530  0.294592   92412          258  \n",
       "662  0.295124  109310          230  \n",
       "818  0.295218  128054          210  "
      ]
     },
     "execution_count": 13,
     "metadata": {},
     "output_type": "execute_result"
    }
   ],
   "source": [
    "# tuning plots\n",
    "GBFS.head()\n"
   ]
  },
  {
   "cell_type": "code",
   "execution_count": 14,
   "metadata": {},
   "outputs": [
    {
     "data": {
      "text/html": [
       "<div>\n",
       "<style scoped>\n",
       "    .dataframe tbody tr th:only-of-type {\n",
       "        vertical-align: middle;\n",
       "    }\n",
       "\n",
       "    .dataframe tbody tr th {\n",
       "        vertical-align: top;\n",
       "    }\n",
       "\n",
       "    .dataframe thead th {\n",
       "        text-align: right;\n",
       "    }\n",
       "</style>\n",
       "<table border=\"1\" class=\"dataframe\">\n",
       "  <thead>\n",
       "    <tr style=\"text-align: right;\">\n",
       "      <th></th>\n",
       "      <th>name</th>\n",
       "      <th>mu</th>\n",
       "      <th>shrinkage</th>\n",
       "      <th>alpha</th>\n",
       "      <th>iteration</th>\n",
       "      <th>number_of_features</th>\n",
       "      <th>RMSE</th>\n",
       "      <th>time</th>\n",
       "      <th>excute_time</th>\n",
       "    </tr>\n",
       "  </thead>\n",
       "  <tbody>\n",
       "    <tr>\n",
       "      <th>590</th>\n",
       "      <td>GBFS_adapt_model</td>\n",
       "      <td>0.01</td>\n",
       "      <td>0.10</td>\n",
       "      <td>0.05</td>\n",
       "      <td>200</td>\n",
       "      <td>42</td>\n",
       "      <td>0.294803</td>\n",
       "      <td>99746</td>\n",
       "      <td>230</td>\n",
       "    </tr>\n",
       "    <tr>\n",
       "      <th>305</th>\n",
       "      <td>GBFS_adapt_model</td>\n",
       "      <td>0.01</td>\n",
       "      <td>0.05</td>\n",
       "      <td>0.01</td>\n",
       "      <td>200</td>\n",
       "      <td>60</td>\n",
       "      <td>0.295456</td>\n",
       "      <td>61380</td>\n",
       "      <td>270</td>\n",
       "    </tr>\n",
       "    <tr>\n",
       "      <th>341</th>\n",
       "      <td>GBFS_adapt_model</td>\n",
       "      <td>0.16</td>\n",
       "      <td>0.05</td>\n",
       "      <td>0.01</td>\n",
       "      <td>200</td>\n",
       "      <td>32</td>\n",
       "      <td>0.295826</td>\n",
       "      <td>66506</td>\n",
       "      <td>253</td>\n",
       "    </tr>\n",
       "    <tr>\n",
       "      <th>449</th>\n",
       "      <td>GBFS_adapt_model</td>\n",
       "      <td>0.01</td>\n",
       "      <td>0.05</td>\n",
       "      <td>0.02</td>\n",
       "      <td>200</td>\n",
       "      <td>53</td>\n",
       "      <td>0.295904</td>\n",
       "      <td>81150</td>\n",
       "      <td>248</td>\n",
       "    </tr>\n",
       "    <tr>\n",
       "      <th>589</th>\n",
       "      <td>GBFS_adapt_model</td>\n",
       "      <td>0.01</td>\n",
       "      <td>0.10</td>\n",
       "      <td>0.05</td>\n",
       "      <td>100</td>\n",
       "      <td>42</td>\n",
       "      <td>0.296298</td>\n",
       "      <td>99516</td>\n",
       "      <td>115</td>\n",
       "    </tr>\n",
       "  </tbody>\n",
       "</table>\n",
       "</div>"
      ],
      "text/plain": [
       "                 name    mu  shrinkage  alpha  iteration  number_of_features  \\\n",
       "590  GBFS_adapt_model  0.01       0.10   0.05        200                  42   \n",
       "305  GBFS_adapt_model  0.01       0.05   0.01        200                  60   \n",
       "341  GBFS_adapt_model  0.16       0.05   0.01        200                  32   \n",
       "449  GBFS_adapt_model  0.01       0.05   0.02        200                  53   \n",
       "589  GBFS_adapt_model  0.01       0.10   0.05        100                  42   \n",
       "\n",
       "         RMSE   time  excute_time  \n",
       "590  0.294803  99746          230  \n",
       "305  0.295456  61380          270  \n",
       "341  0.295826  66506          253  \n",
       "449  0.295904  81150          248  \n",
       "589  0.296298  99516          115  "
      ]
     },
     "execution_count": 14,
     "metadata": {},
     "output_type": "execute_result"
    }
   ],
   "source": [
    "GBFS_adapt.head()"
   ]
  },
  {
   "cell_type": "code",
   "execution_count": 15,
   "metadata": {},
   "outputs": [
    {
     "data": {
      "text/html": [
       "<div>\n",
       "<style scoped>\n",
       "    .dataframe tbody tr th:only-of-type {\n",
       "        vertical-align: middle;\n",
       "    }\n",
       "\n",
       "    .dataframe tbody tr th {\n",
       "        vertical-align: top;\n",
       "    }\n",
       "\n",
       "    .dataframe thead th {\n",
       "        text-align: right;\n",
       "    }\n",
       "</style>\n",
       "<table border=\"1\" class=\"dataframe\">\n",
       "  <thead>\n",
       "    <tr style=\"text-align: right;\">\n",
       "      <th></th>\n",
       "      <th>name</th>\n",
       "      <th>mu</th>\n",
       "      <th>shrinkage</th>\n",
       "      <th>alpha</th>\n",
       "      <th>iteration</th>\n",
       "      <th>number_of_features</th>\n",
       "      <th>RMSE</th>\n",
       "      <th>time</th>\n",
       "      <th>excute_time</th>\n",
       "    </tr>\n",
       "  </thead>\n",
       "  <tbody>\n",
       "    <tr>\n",
       "      <th>722</th>\n",
       "      <td>GBDTBTt</td>\n",
       "      <td>0.0</td>\n",
       "      <td>0.10</td>\n",
       "      <td>0.10</td>\n",
       "      <td>200</td>\n",
       "      <td>20</td>\n",
       "      <td>0.298999</td>\n",
       "      <td>116880</td>\n",
       "      <td>93</td>\n",
       "    </tr>\n",
       "    <tr>\n",
       "      <th>437</th>\n",
       "      <td>GBDTBTt</td>\n",
       "      <td>0.0</td>\n",
       "      <td>0.05</td>\n",
       "      <td>0.02</td>\n",
       "      <td>200</td>\n",
       "      <td>20</td>\n",
       "      <td>0.299033</td>\n",
       "      <td>79928</td>\n",
       "      <td>105</td>\n",
       "    </tr>\n",
       "    <tr>\n",
       "      <th>581</th>\n",
       "      <td>GBDTBTt</td>\n",
       "      <td>0.0</td>\n",
       "      <td>0.05</td>\n",
       "      <td>0.05</td>\n",
       "      <td>200</td>\n",
       "      <td>20</td>\n",
       "      <td>0.299320</td>\n",
       "      <td>99000</td>\n",
       "      <td>97</td>\n",
       "    </tr>\n",
       "    <tr>\n",
       "      <th>578</th>\n",
       "      <td>GBDTBTt</td>\n",
       "      <td>0.0</td>\n",
       "      <td>0.10</td>\n",
       "      <td>0.05</td>\n",
       "      <td>200</td>\n",
       "      <td>20</td>\n",
       "      <td>0.299435</td>\n",
       "      <td>98821</td>\n",
       "      <td>100</td>\n",
       "    </tr>\n",
       "    <tr>\n",
       "      <th>434</th>\n",
       "      <td>GBDTBTt</td>\n",
       "      <td>0.0</td>\n",
       "      <td>0.10</td>\n",
       "      <td>0.02</td>\n",
       "      <td>200</td>\n",
       "      <td>20</td>\n",
       "      <td>0.299815</td>\n",
       "      <td>79739</td>\n",
       "      <td>110</td>\n",
       "    </tr>\n",
       "  </tbody>\n",
       "</table>\n",
       "</div>"
      ],
      "text/plain": [
       "        name   mu  shrinkage  alpha  iteration  number_of_features      RMSE  \\\n",
       "722  GBDTBTt  0.0       0.10   0.10        200                  20  0.298999   \n",
       "437  GBDTBTt  0.0       0.05   0.02        200                  20  0.299033   \n",
       "581  GBDTBTt  0.0       0.05   0.05        200                  20  0.299320   \n",
       "578  GBDTBTt  0.0       0.10   0.05        200                  20  0.299435   \n",
       "434  GBDTBTt  0.0       0.10   0.02        200                  20  0.299815   \n",
       "\n",
       "       time  excute_time  \n",
       "722  116880           93  \n",
       "437   79928          105  \n",
       "581   99000           97  \n",
       "578   98821          100  \n",
       "434   79739          110  "
      ]
     },
     "execution_count": 15,
     "metadata": {},
     "output_type": "execute_result"
    }
   ],
   "source": [
    "BTt.head()"
   ]
  },
  {
   "cell_type": "code",
   "execution_count": null,
   "metadata": {},
   "outputs": [],
   "source": []
  },
  {
   "cell_type": "code",
   "execution_count": null,
   "metadata": {},
   "outputs": [],
   "source": []
  },
  {
   "cell_type": "code",
   "execution_count": null,
   "metadata": {},
   "outputs": [],
   "source": []
  },
  {
   "cell_type": "code",
   "execution_count": null,
   "metadata": {},
   "outputs": [],
   "source": []
  },
  {
   "cell_type": "code",
   "execution_count": null,
   "metadata": {},
   "outputs": [],
   "source": []
  },
  {
   "cell_type": "code",
   "execution_count": 12,
   "metadata": {},
   "outputs": [],
   "source": [
    "## analysis tuned result for gold_in_qa_split\n",
    "from os import listdir\n",
    "from sklearn.metrics import roc_auc_score\n"
   ]
  },
  {
   "cell_type": "code",
   "execution_count": 13,
   "metadata": {},
   "outputs": [],
   "source": [
    "def ranking_precision_score(y_true, y_score, k=10):\n",
    "    \"\"\"Precision at rank k\n",
    "    Parameters\n",
    "    ----------\n",
    "    y_true : array-like, shape = [n_samples]\n",
    "        Ground truth (true relevance labels).\n",
    "    y_score : array-like, shape = [n_samples]\n",
    "        Predicted scores.\n",
    "    k : int\n",
    "        Rank.\n",
    "    Returns\n",
    "    -------\n",
    "    precision @k : float\n",
    "    \"\"\"\n",
    "    unique_y = np.unique(y_true)\n",
    "\n",
    "    if len(unique_y) == 2:\n",
    "        pos_label = unique_y[1]\n",
    "        n_pos = np.sum(y_true == pos_label)\n",
    "\n",
    "        order = np.argsort(y_score)[::-1]\n",
    "        y_true = np.take(y_true, order[:k])\n",
    "        n_relevant = np.sum(y_true == pos_label)\n",
    "\n",
    "        # Divide by min(n_pos, k) such that the best achievable score is always 1.0.\n",
    "        return float(n_relevant) / min(n_pos, k)\n",
    "    else:\n",
    "        return -1\n",
    "def rank_precision(data_frame,k=4): # passed to groupby object \n",
    "    y_true=list(data_frame[1])\n",
    "    y_score=list(data_frame[2])\n",
    "    return ranking_precision_score(y_true, y_score, k=k)"
   ]
  },
  {
   "cell_type": "code",
   "execution_count": 14,
   "metadata": {},
   "outputs": [],
   "source": [
    "class Model:\n",
    "    def __init__(self,name=None,alpha=0,penalty=0,topk=-1,attrN=-1,shrink=0.1,\n",
    "                 itern=100,preds=None,rmse=-1):\n",
    "        self.name=name  # name can be GBDT or GBDTBT (GBDT with top ranking feature from BT)\n",
    "        self.pen=penalty\n",
    "        self.topk=topk\n",
    "        self.preds=preds\n",
    "        self.attrN=attrN\n",
    "        self.alpha=alpha\n",
    "        self.shrink=shrink\n",
    "        self.itern=itern\n",
    "        self.rmse=rmse\n",
    "        \n",
    "    def get_AUC(self):\n",
    "        return roc_auc_score(trueY,self.preds) if self.preds is not None else None\n",
    "    \n",
    "    #add some other metrics later\n",
    "    \n",
    "    def get_ranking_precision(self,k=2): # ranking_precision_score averaged over queries\n",
    "        combined=pd.concat([kw,trueY,self.preds],axis=1,ignore_index=True)\n",
    "        grouped=combined.groupby(combined[0])\n",
    "        agged=grouped.apply(rank_precision,k=k)\n",
    "        agged=[num for num in agged if num>=0]\n",
    "        return sum(agged)/(len(agged)) if len(agged)>0 else 0\n",
    "        "
   ]
  },
  {
   "cell_type": "code",
   "execution_count": 15,
   "metadata": {},
   "outputs": [],
   "source": [
    "## result path\n",
    "\n",
    "# result_path='result/gold_in_qa_split/tuned/'\n",
    "# attr_total=96\n",
    "result_path='result/us/tuned/'\n",
    "attr_total=174"
   ]
  },
  {
   "cell_type": "code",
   "execution_count": 16,
   "metadata": {},
   "outputs": [],
   "source": [
    "filenames_result=listdir(result_path)\n",
    "trueY=pd.read_csv(result_path+\"trueY.txt\",header=None)[0]\n",
    "try:\n",
    "    kw=pd.read_csv(result_path+\"keyword.txt\",header=None)[0]\n",
    "except:\n",
    "    print(\"do not have groups\")\n",
    "try:\n",
    "    number_unused=len(pd.read_csv(result_path+\"preprocess_unused.txt\",header=None))\n",
    "except:\n",
    "    number_unused=0\n",
    "attr_init_number=attr_total-number_unused"
   ]
  },
  {
   "cell_type": "code",
   "execution_count": 17,
   "metadata": {},
   "outputs": [
    {
     "data": {
      "text/plain": [
       "['GBDTBTt_preds_mu0_alpha0.02_shrink0.05_itern200_attrn20_rms0.23687.txt',\n",
       " 'us_test.dta',\n",
       " 'feature_scores_BT_alpha0.02.txt',\n",
       " 'GBFS_model_preds_mu16_alpha0.02_shrink0.1_itern100_attrn13_rms0.235527.txt',\n",
       " 'trueY.txt',\n",
       " 'preprocess_unused.txt',\n",
       " 'GBDTBTt_preds_mu0_alpha0.1_shrink0.1_itern200_attrn20_rms0.244205.txt',\n",
       " 'GBFS_model_preds_mu8_alpha0.1_shrink0.1_itern200_attrn23_rms0.233999.txt',\n",
       " 'GBFS_model_preds_mu8_alpha0.05_shrink0.1_itern200_attrn20_rms0.233055.txt',\n",
       " 'feature_scores_BT_alpha0.1.txt',\n",
       " 'GBFS_model_preds_mu8_alpha0.02_shrink0.1_itern200_attrn20_rms0.233091.txt',\n",
       " 'keyword.txt',\n",
       " 'us_train.attr',\n",
       " 'tuned.txt',\n",
       " 'us_train.dta',\n",
       " 'GBFS_model_preds_mu8_alpha0.05_shrink0.1_itern100_attrn20_rms0.232841.txt']"
      ]
     },
     "execution_count": 17,
     "metadata": {},
     "output_type": "execute_result"
    }
   ],
   "source": [
    "filenames_result"
   ]
  },
  {
   "cell_type": "code",
   "execution_count": 18,
   "metadata": {},
   "outputs": [],
   "source": [
    "import collections\n",
    "results_dict=collections.defaultdict(list)# name,mu,alpha,shrink,itern,attrn,rmse,auc,prec@k=2,prec@k=3,prec@k=4"
   ]
  },
  {
   "cell_type": "code",
   "execution_count": 19,
   "metadata": {},
   "outputs": [],
   "source": [
    "models=[]"
   ]
  },
  {
   "cell_type": "code",
   "execution_count": 20,
   "metadata": {},
   "outputs": [],
   "source": [
    "for fname in filenames_result:\n",
    "    last_dot=fname.rfind(\".\")\n",
    "    filename=fname[:last_dot]\n",
    "    if \"_preds\" in filename:\n",
    "        name=filename[:filename.index(\"_preds\")]\n",
    "        mu=float(filename[filename.index(\"_mu\")+3:filename.index(\"_alpha\")])\n",
    "        alpha=float(filename[filename.index(\"_alpha\")+6:filename.index(\"_shrink\")])\n",
    "        shrink=float(filename[filename.index(\"_shrink\")+7:filename.index(\"_itern\")])\n",
    "        itern=int(filename[filename.index(\"_itern\")+6:filename.index(\"_attrn\")])\n",
    "        attrn=int(filename[filename.index(\"_attrn\")+6:filename.index(\"_rms\")])\n",
    "        rms=float(filename[filename.index(\"_rms\")+4:])\n",
    "        preds=pd.read_csv(result_path+fname,header=None)[0]\n",
    "        models.append(Model(name=name,alpha=alpha,penalty=mu,attrN=attrn,shrink=shrink,\n",
    "                 itern=itern,preds=preds,rmse=rms))\n",
    "        \n",
    "    "
   ]
  },
  {
   "cell_type": "code",
   "execution_count": 21,
   "metadata": {},
   "outputs": [],
   "source": [
    "for model in models:\n",
    "    results_dict[\"name\"].append(model.name)\n",
    "    results_dict[\"mu\"].append(model.pen)\n",
    "    results_dict[\"shrink\"].append(model.shrink)\n",
    "    results_dict[\"itern\"].append(model.itern)\n",
    "    results_dict[\"attrn\"].append(model.attrN)\n",
    "    results_dict[\"alpha\"].append(model.alpha)\n",
    "    results_dict[\"rmse\"].append(model.rmse)\n",
    "    results_dict[\"AUC_ROC\"].append(model.get_AUC())\n",
    "    results_dict[\"prec@k=2\"].append(model.get_ranking_precision(k=2))\n",
    "    results_dict[\"prec@k=3\"].append(model.get_ranking_precision(k=3))\n",
    "    results_dict[\"prec@k=4\"].append(model.get_ranking_precision(k=4))\n",
    "    \n",
    "    \n",
    "    \n",
    "    "
   ]
  },
  {
   "cell_type": "code",
   "execution_count": 22,
   "metadata": {},
   "outputs": [],
   "source": [
    "results_table=pd.DataFrame(results_dict)"
   ]
  },
  {
   "cell_type": "code",
   "execution_count": 24,
   "metadata": {},
   "outputs": [],
   "source": [
    "results_table.sort_values(\"name\",inplace=True)"
   ]
  },
  {
   "cell_type": "code",
   "execution_count": 25,
   "metadata": {},
   "outputs": [
    {
     "data": {
      "text/html": [
       "<div>\n",
       "<style scoped>\n",
       "    .dataframe tbody tr th:only-of-type {\n",
       "        vertical-align: middle;\n",
       "    }\n",
       "\n",
       "    .dataframe tbody tr th {\n",
       "        vertical-align: top;\n",
       "    }\n",
       "\n",
       "    .dataframe thead th {\n",
       "        text-align: right;\n",
       "    }\n",
       "</style>\n",
       "<table border=\"1\" class=\"dataframe\">\n",
       "  <thead>\n",
       "    <tr style=\"text-align: right;\">\n",
       "      <th></th>\n",
       "      <th>name</th>\n",
       "      <th>mu</th>\n",
       "      <th>shrink</th>\n",
       "      <th>itern</th>\n",
       "      <th>attrn</th>\n",
       "      <th>alpha</th>\n",
       "      <th>rmse</th>\n",
       "      <th>AUC_ROC</th>\n",
       "      <th>prec@k=2</th>\n",
       "      <th>prec@k=3</th>\n",
       "      <th>prec@k=4</th>\n",
       "    </tr>\n",
       "  </thead>\n",
       "  <tbody>\n",
       "    <tr>\n",
       "      <th>0</th>\n",
       "      <td>GBDTBTt</td>\n",
       "      <td>0.0</td>\n",
       "      <td>0.05</td>\n",
       "      <td>200</td>\n",
       "      <td>20</td>\n",
       "      <td>0.02</td>\n",
       "      <td>0.236870</td>\n",
       "      <td>0.891337</td>\n",
       "      <td>0.896104</td>\n",
       "      <td>0.954545</td>\n",
       "      <td>0.984848</td>\n",
       "    </tr>\n",
       "    <tr>\n",
       "      <th>2</th>\n",
       "      <td>GBDTBTt</td>\n",
       "      <td>0.0</td>\n",
       "      <td>0.10</td>\n",
       "      <td>200</td>\n",
       "      <td>20</td>\n",
       "      <td>0.10</td>\n",
       "      <td>0.244205</td>\n",
       "      <td>0.857397</td>\n",
       "      <td>0.887446</td>\n",
       "      <td>0.944444</td>\n",
       "      <td>0.971501</td>\n",
       "    </tr>\n",
       "    <tr>\n",
       "      <th>1</th>\n",
       "      <td>GBFS_model</td>\n",
       "      <td>16.0</td>\n",
       "      <td>0.10</td>\n",
       "      <td>100</td>\n",
       "      <td>13</td>\n",
       "      <td>0.02</td>\n",
       "      <td>0.235527</td>\n",
       "      <td>0.900230</td>\n",
       "      <td>0.913420</td>\n",
       "      <td>0.962482</td>\n",
       "      <td>0.984127</td>\n",
       "    </tr>\n",
       "    <tr>\n",
       "      <th>3</th>\n",
       "      <td>GBFS_model</td>\n",
       "      <td>8.0</td>\n",
       "      <td>0.10</td>\n",
       "      <td>200</td>\n",
       "      <td>23</td>\n",
       "      <td>0.10</td>\n",
       "      <td>0.233999</td>\n",
       "      <td>0.919336</td>\n",
       "      <td>0.913420</td>\n",
       "      <td>0.954545</td>\n",
       "      <td>0.979076</td>\n",
       "    </tr>\n",
       "    <tr>\n",
       "      <th>4</th>\n",
       "      <td>GBFS_model</td>\n",
       "      <td>8.0</td>\n",
       "      <td>0.10</td>\n",
       "      <td>200</td>\n",
       "      <td>20</td>\n",
       "      <td>0.05</td>\n",
       "      <td>0.233055</td>\n",
       "      <td>0.913622</td>\n",
       "      <td>0.906926</td>\n",
       "      <td>0.950938</td>\n",
       "      <td>0.979798</td>\n",
       "    </tr>\n",
       "    <tr>\n",
       "      <th>5</th>\n",
       "      <td>GBFS_model</td>\n",
       "      <td>8.0</td>\n",
       "      <td>0.10</td>\n",
       "      <td>200</td>\n",
       "      <td>20</td>\n",
       "      <td>0.02</td>\n",
       "      <td>0.233091</td>\n",
       "      <td>0.873678</td>\n",
       "      <td>0.898268</td>\n",
       "      <td>0.945887</td>\n",
       "      <td>0.980519</td>\n",
       "    </tr>\n",
       "    <tr>\n",
       "      <th>6</th>\n",
       "      <td>GBFS_model</td>\n",
       "      <td>8.0</td>\n",
       "      <td>0.10</td>\n",
       "      <td>100</td>\n",
       "      <td>20</td>\n",
       "      <td>0.05</td>\n",
       "      <td>0.232841</td>\n",
       "      <td>0.919979</td>\n",
       "      <td>0.911255</td>\n",
       "      <td>0.951659</td>\n",
       "      <td>0.980880</td>\n",
       "    </tr>\n",
       "  </tbody>\n",
       "</table>\n",
       "</div>"
      ],
      "text/plain": [
       "         name    mu  shrink  itern  attrn  alpha      rmse   AUC_ROC  \\\n",
       "0     GBDTBTt   0.0    0.05    200     20   0.02  0.236870  0.891337   \n",
       "2     GBDTBTt   0.0    0.10    200     20   0.10  0.244205  0.857397   \n",
       "1  GBFS_model  16.0    0.10    100     13   0.02  0.235527  0.900230   \n",
       "3  GBFS_model   8.0    0.10    200     23   0.10  0.233999  0.919336   \n",
       "4  GBFS_model   8.0    0.10    200     20   0.05  0.233055  0.913622   \n",
       "5  GBFS_model   8.0    0.10    200     20   0.02  0.233091  0.873678   \n",
       "6  GBFS_model   8.0    0.10    100     20   0.05  0.232841  0.919979   \n",
       "\n",
       "   prec@k=2  prec@k=3  prec@k=4  \n",
       "0  0.896104  0.954545  0.984848  \n",
       "2  0.887446  0.944444  0.971501  \n",
       "1  0.913420  0.962482  0.984127  \n",
       "3  0.913420  0.954545  0.979076  \n",
       "4  0.906926  0.950938  0.979798  \n",
       "5  0.898268  0.945887  0.980519  \n",
       "6  0.911255  0.951659  0.980880  "
      ]
     },
     "execution_count": 25,
     "metadata": {},
     "output_type": "execute_result"
    }
   ],
   "source": [
    "results_table"
   ]
  },
  {
   "cell_type": "code",
   "execution_count": null,
   "metadata": {},
   "outputs": [],
   "source": []
  },
  {
   "cell_type": "code",
   "execution_count": null,
   "metadata": {},
   "outputs": [],
   "source": []
  },
  {
   "cell_type": "code",
   "execution_count": null,
   "metadata": {},
   "outputs": [],
   "source": []
  },
  {
   "cell_type": "code",
   "execution_count": null,
   "metadata": {},
   "outputs": [],
   "source": []
  },
  {
   "cell_type": "code",
   "execution_count": null,
   "metadata": {},
   "outputs": [],
   "source": []
  },
  {
   "cell_type": "code",
   "execution_count": null,
   "metadata": {},
   "outputs": [],
   "source": []
  },
  {
   "cell_type": "code",
   "execution_count": null,
   "metadata": {},
   "outputs": [],
   "source": []
  },
  {
   "cell_type": "code",
   "execution_count": 25,
   "metadata": {},
   "outputs": [],
   "source": [
    "# make entire query asin pair all in training or testing to do ranked precision/recall\n",
    "data_path=\"data/\"\n",
    "data_name=\"gold_in_qa_split\""
   ]
  },
  {
   "cell_type": "code",
   "execution_count": 26,
   "metadata": {},
   "outputs": [],
   "source": [
    "train=pd.read_csv(data_path+data_name+\"_train.tsv\",sep=\"\\t\")\n",
    "test=pd.read_csv(data_path+data_name+\"_test.tsv\",sep=\"\\t\")"
   ]
  },
  {
   "cell_type": "code",
   "execution_count": null,
   "metadata": {},
   "outputs": [],
   "source": []
  },
  {
   "cell_type": "code",
   "execution_count": null,
   "metadata": {},
   "outputs": [],
   "source": []
  },
  {
   "cell_type": "code",
   "execution_count": null,
   "metadata": {},
   "outputs": [],
   "source": []
  },
  {
   "cell_type": "code",
   "execution_count": 27,
   "metadata": {},
   "outputs": [],
   "source": [
    "# random split 10% train to form validation dataset according to query"
   ]
  },
  {
   "cell_type": "code",
   "execution_count": null,
   "metadata": {},
   "outputs": [],
   "source": []
  },
  {
   "cell_type": "raw",
   "metadata": {},
   "source": []
  },
  {
   "cell_type": "code",
   "execution_count": 28,
   "metadata": {},
   "outputs": [],
   "source": [
    "queries_train=train[\"keyword\"].unique()"
   ]
  },
  {
   "cell_type": "code",
   "execution_count": null,
   "metadata": {},
   "outputs": [],
   "source": []
  },
  {
   "cell_type": "code",
   "execution_count": null,
   "metadata": {},
   "outputs": [],
   "source": []
  },
  {
   "cell_type": "code",
   "execution_count": null,
   "metadata": {},
   "outputs": [],
   "source": []
  },
  {
   "cell_type": "raw",
   "metadata": {},
   "source": []
  },
  {
   "cell_type": "raw",
   "metadata": {},
   "source": []
  },
  {
   "cell_type": "code",
   "execution_count": 30,
   "metadata": {},
   "outputs": [
    {
     "data": {
      "text/plain": [
       "767"
      ]
     },
     "execution_count": 30,
     "metadata": {},
     "output_type": "execute_result"
    }
   ],
   "source": [
    "len(queries_train_validate)"
   ]
  },
  {
   "cell_type": "raw",
   "metadata": {},
   "source": []
  },
  {
   "cell_type": "code",
   "execution_count": null,
   "metadata": {},
   "outputs": [],
   "source": []
  },
  {
   "cell_type": "code",
   "execution_count": 29,
   "metadata": {},
   "outputs": [],
   "source": [
    "validate_data=train[[query in queries_train_validate for query in train[\"keyword\"]]]"
   ]
  },
  {
   "cell_type": "code",
   "execution_count": 8,
   "metadata": {},
   "outputs": [],
   "source": [
    "queries_train=train[\"keyword\"].unique()"
   ]
  },
  {
   "cell_type": "raw",
   "metadata": {},
   "source": []
  },
  {
   "cell_type": "code",
   "execution_count": 33,
   "metadata": {},
   "outputs": [],
   "source": [
    "train_data=train[[query not in queries_train_validate for query in train[\"keyword\"]]]"
   ]
  },
  {
   "cell_type": "code",
   "execution_count": 34,
   "metadata": {},
   "outputs": [
    {
     "data": {
      "text/plain": [
       "10920"
      ]
     },
     "execution_count": 34,
     "metadata": {},
     "output_type": "execute_result"
    }
   ],
   "source": [
    "len(validate_data)"
   ]
  },
  {
   "cell_type": "code",
   "execution_count": 35,
   "metadata": {},
   "outputs": [
    {
     "data": {
      "text/plain": [
       "96312"
      ]
     },
     "execution_count": 35,
     "metadata": {},
     "output_type": "execute_result"
    }
   ],
   "source": [
    "len(train_data)"
   ]
  },
  {
   "cell_type": "code",
   "execution_count": 36,
   "metadata": {},
   "outputs": [],
   "source": [
    "validate_data.to_csv(data_path+data_name+\"_train_validate.tsv\",sep=\"\\t\",index=False)\n",
    "train_data.to_csv(data_path+data_name+\"_train_train.tsv\",sep=\"\\t\",index=False)"
   ]
  },
  {
   "cell_type": "code",
   "execution_count": null,
   "metadata": {},
   "outputs": [],
   "source": []
  },
  {
   "cell_type": "code",
   "execution_count": 14,
   "metadata": {},
   "outputs": [],
   "source": [
    "all_data=pd.concat([train,test],ignore_index=True)"
   ]
  },
  {
   "cell_type": "code",
   "execution_count": 15,
   "metadata": {},
   "outputs": [],
   "source": [
    "queries=all_data[\"keyword\"].unique()"
   ]
  },
  {
   "cell_type": "code",
   "execution_count": 16,
   "metadata": {},
   "outputs": [
    {
     "data": {
      "text/plain": [
       "3.8241020476670022"
      ]
     },
     "execution_count": 16,
     "metadata": {},
     "output_type": "execute_result"
    }
   ],
   "source": [
    "len(all_data)/len(queries)"
   ]
  },
  {
   "cell_type": "code",
   "execution_count": null,
   "metadata": {},
   "outputs": [],
   "source": []
  },
  {
   "cell_type": "code",
   "execution_count": 106,
   "metadata": {},
   "outputs": [],
   "source": [
    "np.random.seed(1)\n",
    "test_queries=set(np.random.choice(queries,replace=False,size=(len(test)*len(queries))//len(all_data)))"
   ]
  },
  {
   "cell_type": "code",
   "execution_count": null,
   "metadata": {},
   "outputs": [],
   "source": []
  },
  {
   "cell_type": "code",
   "execution_count": null,
   "metadata": {},
   "outputs": [],
   "source": []
  },
  {
   "cell_type": "code",
   "execution_count": 107,
   "metadata": {},
   "outputs": [],
   "source": [
    "test_data=all_data[[query in test_queries for query in all_data[\"keyword\"]]]"
   ]
  },
  {
   "cell_type": "code",
   "execution_count": 108,
   "metadata": {},
   "outputs": [],
   "source": [
    "train_data=all_data[[query not in test_queries for query in all_data[\"keyword\"]]]"
   ]
  },
  {
   "cell_type": "code",
   "execution_count": 109,
   "metadata": {},
   "outputs": [
    {
     "data": {
      "text/plain": [
       "(0.11747138964577657, 0.11019913157410315)"
      ]
     },
     "execution_count": 109,
     "metadata": {},
     "output_type": "execute_result"
    }
   ],
   "source": [
    "len(test_data)/len(train_data),len(test)/len(train)"
   ]
  },
  {
   "cell_type": "code",
   "execution_count": null,
   "metadata": {},
   "outputs": [],
   "source": []
  },
  {
   "cell_type": "code",
   "execution_count": 110,
   "metadata": {},
   "outputs": [],
   "source": [
    "test_data.to_csv(data_path+data_name+\"_test.tsv\",sep=\"\\t\",index=False)\n",
    "train_data.to_csv(data_path+data_name+\"_train.tsv\",sep=\"\\t\",index=False)"
   ]
  },
  {
   "cell_type": "code",
   "execution_count": null,
   "metadata": {},
   "outputs": [],
   "source": []
  },
  {
   "cell_type": "code",
   "execution_count": null,
   "metadata": {},
   "outputs": [],
   "source": []
  },
  {
   "cell_type": "code",
   "execution_count": null,
   "metadata": {},
   "outputs": [],
   "source": []
  },
  {
   "cell_type": "code",
   "execution_count": null,
   "metadata": {},
   "outputs": [],
   "source": []
  },
  {
   "cell_type": "code",
   "execution_count": null,
   "metadata": {},
   "outputs": [],
   "source": []
  },
  {
   "cell_type": "code",
   "execution_count": null,
   "metadata": {},
   "outputs": [],
   "source": []
  },
  {
   "cell_type": "code",
   "execution_count": null,
   "metadata": {},
   "outputs": [],
   "source": [
    "## madelon dataset"
   ]
  },
  {
   "cell_type": "code",
   "execution_count": null,
   "metadata": {},
   "outputs": [],
   "source": []
  },
  {
   "cell_type": "code",
   "execution_count": null,
   "metadata": {},
   "outputs": [],
   "source": []
  },
  {
   "cell_type": "code",
   "execution_count": null,
   "metadata": {},
   "outputs": [],
   "source": []
  },
  {
   "cell_type": "code",
   "execution_count": null,
   "metadata": {},
   "outputs": [],
   "source": []
  },
  {
   "cell_type": "code",
   "execution_count": 4,
   "metadata": {},
   "outputs": [],
   "source": [
    "data_path=\"data/\"\n",
    "data_name=\"madelon\""
   ]
  },
  {
   "cell_type": "code",
   "execution_count": 5,
   "metadata": {},
   "outputs": [],
   "source": [
    "train=pd.read_csv(data_path+data_name+\"_train.txt\",sep=\" \",header=None)\n",
    "test=pd.read_csv(data_path+data_name+\"_test.txt\",sep=\" \",header=None)"
   ]
  },
  {
   "cell_type": "code",
   "execution_count": 6,
   "metadata": {},
   "outputs": [
    {
     "data": {
      "text/html": [
       "<div>\n",
       "<style scoped>\n",
       "    .dataframe tbody tr th:only-of-type {\n",
       "        vertical-align: middle;\n",
       "    }\n",
       "\n",
       "    .dataframe tbody tr th {\n",
       "        vertical-align: top;\n",
       "    }\n",
       "\n",
       "    .dataframe thead th {\n",
       "        text-align: right;\n",
       "    }\n",
       "</style>\n",
       "<table border=\"1\" class=\"dataframe\">\n",
       "  <thead>\n",
       "    <tr style=\"text-align: right;\">\n",
       "      <th></th>\n",
       "      <th>0</th>\n",
       "      <th>1</th>\n",
       "      <th>2</th>\n",
       "      <th>3</th>\n",
       "      <th>4</th>\n",
       "      <th>5</th>\n",
       "      <th>6</th>\n",
       "      <th>7</th>\n",
       "      <th>8</th>\n",
       "      <th>9</th>\n",
       "      <th>...</th>\n",
       "      <th>491</th>\n",
       "      <th>492</th>\n",
       "      <th>493</th>\n",
       "      <th>494</th>\n",
       "      <th>495</th>\n",
       "      <th>496</th>\n",
       "      <th>497</th>\n",
       "      <th>498</th>\n",
       "      <th>499</th>\n",
       "      <th>500</th>\n",
       "    </tr>\n",
       "  </thead>\n",
       "  <tbody>\n",
       "    <tr>\n",
       "      <th>0</th>\n",
       "      <td>-1</td>\n",
       "      <td>1:485</td>\n",
       "      <td>2:477</td>\n",
       "      <td>3:537</td>\n",
       "      <td>4:479</td>\n",
       "      <td>5:452</td>\n",
       "      <td>6:471</td>\n",
       "      <td>7:491</td>\n",
       "      <td>8:476</td>\n",
       "      <td>9:475</td>\n",
       "      <td>...</td>\n",
       "      <td>491:477</td>\n",
       "      <td>492:481</td>\n",
       "      <td>493:477</td>\n",
       "      <td>494:485</td>\n",
       "      <td>495:511</td>\n",
       "      <td>496:485</td>\n",
       "      <td>497:481</td>\n",
       "      <td>498:479</td>\n",
       "      <td>499:475</td>\n",
       "      <td>500:496</td>\n",
       "    </tr>\n",
       "    <tr>\n",
       "      <th>1</th>\n",
       "      <td>-1</td>\n",
       "      <td>1:483</td>\n",
       "      <td>2:458</td>\n",
       "      <td>3:460</td>\n",
       "      <td>4:487</td>\n",
       "      <td>5:587</td>\n",
       "      <td>6:475</td>\n",
       "      <td>7:526</td>\n",
       "      <td>8:479</td>\n",
       "      <td>9:485</td>\n",
       "      <td>...</td>\n",
       "      <td>491:463</td>\n",
       "      <td>492:478</td>\n",
       "      <td>493:487</td>\n",
       "      <td>494:338</td>\n",
       "      <td>495:513</td>\n",
       "      <td>496:486</td>\n",
       "      <td>497:483</td>\n",
       "      <td>498:492</td>\n",
       "      <td>499:510</td>\n",
       "      <td>500:517</td>\n",
       "    </tr>\n",
       "    <tr>\n",
       "      <th>2</th>\n",
       "      <td>-1</td>\n",
       "      <td>1:487</td>\n",
       "      <td>2:542</td>\n",
       "      <td>3:499</td>\n",
       "      <td>4:468</td>\n",
       "      <td>5:448</td>\n",
       "      <td>6:471</td>\n",
       "      <td>7:442</td>\n",
       "      <td>8:478</td>\n",
       "      <td>9:480</td>\n",
       "      <td>...</td>\n",
       "      <td>491:487</td>\n",
       "      <td>492:481</td>\n",
       "      <td>493:492</td>\n",
       "      <td>494:650</td>\n",
       "      <td>495:506</td>\n",
       "      <td>496:501</td>\n",
       "      <td>497:480</td>\n",
       "      <td>498:489</td>\n",
       "      <td>499:499</td>\n",
       "      <td>500:498</td>\n",
       "    </tr>\n",
       "    <tr>\n",
       "      <th>3</th>\n",
       "      <td>1</td>\n",
       "      <td>1:480</td>\n",
       "      <td>2:491</td>\n",
       "      <td>3:510</td>\n",
       "      <td>4:485</td>\n",
       "      <td>5:495</td>\n",
       "      <td>6:472</td>\n",
       "      <td>7:417</td>\n",
       "      <td>8:474</td>\n",
       "      <td>9:502</td>\n",
       "      <td>...</td>\n",
       "      <td>491:491</td>\n",
       "      <td>492:480</td>\n",
       "      <td>493:474</td>\n",
       "      <td>494:572</td>\n",
       "      <td>495:454</td>\n",
       "      <td>496:469</td>\n",
       "      <td>497:475</td>\n",
       "      <td>498:482</td>\n",
       "      <td>499:494</td>\n",
       "      <td>500:461</td>\n",
       "    </tr>\n",
       "    <tr>\n",
       "      <th>4</th>\n",
       "      <td>1</td>\n",
       "      <td>1:484</td>\n",
       "      <td>2:502</td>\n",
       "      <td>3:528</td>\n",
       "      <td>4:489</td>\n",
       "      <td>5:466</td>\n",
       "      <td>6:481</td>\n",
       "      <td>7:402</td>\n",
       "      <td>8:478</td>\n",
       "      <td>9:487</td>\n",
       "      <td>...</td>\n",
       "      <td>491:488</td>\n",
       "      <td>492:479</td>\n",
       "      <td>493:452</td>\n",
       "      <td>494:435</td>\n",
       "      <td>495:486</td>\n",
       "      <td>496:508</td>\n",
       "      <td>497:481</td>\n",
       "      <td>498:504</td>\n",
       "      <td>499:495</td>\n",
       "      <td>500:511</td>\n",
       "    </tr>\n",
       "  </tbody>\n",
       "</table>\n",
       "<p>5 rows × 501 columns</p>\n",
       "</div>"
      ],
      "text/plain": [
       "   0      1      2      3      4      5      6      7      8      9    \\\n",
       "0   -1  1:485  2:477  3:537  4:479  5:452  6:471  7:491  8:476  9:475   \n",
       "1   -1  1:483  2:458  3:460  4:487  5:587  6:475  7:526  8:479  9:485   \n",
       "2   -1  1:487  2:542  3:499  4:468  5:448  6:471  7:442  8:478  9:480   \n",
       "3    1  1:480  2:491  3:510  4:485  5:495  6:472  7:417  8:474  9:502   \n",
       "4    1  1:484  2:502  3:528  4:489  5:466  6:481  7:402  8:478  9:487   \n",
       "\n",
       "    ...         491      492      493      494      495      496      497  \\\n",
       "0   ...     491:477  492:481  493:477  494:485  495:511  496:485  497:481   \n",
       "1   ...     491:463  492:478  493:487  494:338  495:513  496:486  497:483   \n",
       "2   ...     491:487  492:481  493:492  494:650  495:506  496:501  497:480   \n",
       "3   ...     491:491  492:480  493:474  494:572  495:454  496:469  497:475   \n",
       "4   ...     491:488  492:479  493:452  494:435  495:486  496:508  497:481   \n",
       "\n",
       "       498      499      500  \n",
       "0  498:479  499:475  500:496  \n",
       "1  498:492  499:510  500:517  \n",
       "2  498:489  499:499  500:498  \n",
       "3  498:482  499:494  500:461  \n",
       "4  498:504  499:495  500:511  \n",
       "\n",
       "[5 rows x 501 columns]"
      ]
     },
     "execution_count": 6,
     "metadata": {},
     "output_type": "execute_result"
    }
   ],
   "source": [
    "train.head()"
   ]
  },
  {
   "cell_type": "code",
   "execution_count": 7,
   "metadata": {},
   "outputs": [],
   "source": [
    "train_data=train.iloc[:,1:].apply(lambda col: [int(r.split(\":\")[1]) for r in col])"
   ]
  },
  {
   "cell_type": "code",
   "execution_count": 8,
   "metadata": {},
   "outputs": [],
   "source": [
    "train_data[0]=[ int(x>0) for x in train[0]]"
   ]
  },
  {
   "cell_type": "code",
   "execution_count": 9,
   "metadata": {},
   "outputs": [],
   "source": [
    "test_data=test.iloc[:,1:].apply(lambda col: [int(r.split(\":\")[1]) for r in col])"
   ]
  },
  {
   "cell_type": "code",
   "execution_count": 10,
   "metadata": {},
   "outputs": [],
   "source": [
    "test_data[0]=[ int(x>0) for x in test[0]]"
   ]
  },
  {
   "cell_type": "code",
   "execution_count": 11,
   "metadata": {},
   "outputs": [],
   "source": [
    "test_data.rename(columns={0:\"label\"},inplace=True)"
   ]
  },
  {
   "cell_type": "code",
   "execution_count": 12,
   "metadata": {},
   "outputs": [],
   "source": [
    "train_data.rename(columns={0:\"label\"},inplace=True)"
   ]
  },
  {
   "cell_type": "code",
   "execution_count": null,
   "metadata": {},
   "outputs": [],
   "source": []
  },
  {
   "cell_type": "code",
   "execution_count": 15,
   "metadata": {},
   "outputs": [],
   "source": [
    "test_data.to_csv(data_path+data_name+\"_test.tsv\",index=None,sep=\"\\t\")\n",
    "train_data.to_csv(data_path+data_name+\"_train.tsv\",index=None,sep=\"\\t\")"
   ]
  },
  {
   "cell_type": "code",
   "execution_count": null,
   "metadata": {},
   "outputs": [],
   "source": []
  },
  {
   "cell_type": "code",
   "execution_count": null,
   "metadata": {},
   "outputs": [],
   "source": [
    "## gisette_scale data"
   ]
  },
  {
   "cell_type": "code",
   "execution_count": 17,
   "metadata": {},
   "outputs": [],
   "source": [
    "data_path=\"data/\"\n",
    "data_name=\"gisette_scale\""
   ]
  },
  {
   "cell_type": "code",
   "execution_count": 18,
   "metadata": {},
   "outputs": [],
   "source": [
    "train=pd.read_csv(data_path+data_name+\"_train.txt\",sep=\" \",header=None)\n",
    "test=pd.read_csv(data_path+data_name+\"_test.txt\",sep=\" \",header=None)"
   ]
  },
  {
   "cell_type": "code",
   "execution_count": 80,
   "metadata": {},
   "outputs": [],
   "source": [
    "train_data=train.apply(lambda col: [ float(r.split(\":\")[1]) if type(r)==str and \":\" in r else r for r in col])"
   ]
  },
  {
   "cell_type": "code",
   "execution_count": 84,
   "metadata": {},
   "outputs": [],
   "source": [
    "train_data[0]=[ int(x>0) for x in train_data[0]]"
   ]
  },
  {
   "cell_type": "code",
   "execution_count": 85,
   "metadata": {},
   "outputs": [],
   "source": [
    "test_data=test.apply(lambda col: [ float(r.split(\":\")[1]) if type(r)==str and \":\" in r else r for r in col])"
   ]
  },
  {
   "cell_type": "code",
   "execution_count": 86,
   "metadata": {},
   "outputs": [],
   "source": [
    "test_data[0]=[ int(x>0) for x in test_data[0]]"
   ]
  },
  {
   "cell_type": "code",
   "execution_count": 92,
   "metadata": {},
   "outputs": [],
   "source": [
    "# test_data has more columns than train_data?"
   ]
  },
  {
   "cell_type": "code",
   "execution_count": 93,
   "metadata": {},
   "outputs": [],
   "source": [
    "test_data.rename(columns={0:\"label\"},inplace=True)\n",
    "train_data.rename(columns={0:\"label\"},inplace=True)"
   ]
  },
  {
   "cell_type": "code",
   "execution_count": 97,
   "metadata": {},
   "outputs": [],
   "source": [
    "test_data=test_data.iloc[:,:4957]"
   ]
  },
  {
   "cell_type": "code",
   "execution_count": 99,
   "metadata": {},
   "outputs": [
    {
     "data": {
      "text/plain": [
       "((1000, 4957), (6000, 4957))"
      ]
     },
     "execution_count": 99,
     "metadata": {},
     "output_type": "execute_result"
    }
   ],
   "source": [
    "test_data.shape,train_data.shape"
   ]
  },
  {
   "cell_type": "code",
   "execution_count": 100,
   "metadata": {},
   "outputs": [],
   "source": [
    "test_data.to_csv(data_path+data_name+\"_test.tsv\",index=None,sep=\"\\t\")\n",
    "train_data.to_csv(data_path+data_name+\"_train.tsv\",index=None,sep=\"\\t\")"
   ]
  },
  {
   "cell_type": "code",
   "execution_count": null,
   "metadata": {},
   "outputs": [],
   "source": []
  },
  {
   "cell_type": "code",
   "execution_count": 1,
   "metadata": {},
   "outputs": [],
   "source": [
    "import pandas as pd\n",
    "import numpy as np\n",
    "from os import listdir"
   ]
  },
  {
   "cell_type": "code",
   "execution_count": 2,
   "metadata": {},
   "outputs": [],
   "source": [
    "train=\"data/gisette_scale_train.tsv\"\n",
    "test=\"data/gisette_scale_test.tsv\"\n",
    "response_name=\"label\"\n",
    "folder=\"result/gisette_scale\""
   ]
  },
  {
   "cell_type": "code",
   "execution_count": 3,
   "metadata": {},
   "outputs": [],
   "source": [
    "train=pd.read_csv(train,sep=\"\\t\")\n",
    "train_names=list(train.columns.values)\n",
    "file_names=listdir(folder)"
   ]
  },
  {
   "cell_type": "code",
   "execution_count": 6,
   "metadata": {},
   "outputs": [],
   "source": [
    "allfeature=set(pd.read_csv(folder+\"/allfeature.txt\",header=None)[0])"
   ]
  },
  {
   "cell_type": "code",
   "execution_count": 12,
   "metadata": {},
   "outputs": [
    {
     "data": {
      "text/plain": [
       "{'1', '2', '3', '4', '5', '6', '7', '8', '9'}"
      ]
     },
     "execution_count": 12,
     "metadata": {},
     "output_type": "execute_result"
    }
   ],
   "source": [
    "set(str(x) for x in allfeature)"
   ]
  },
  {
   "cell_type": "code",
   "execution_count": 15,
   "metadata": {},
   "outputs": [
    {
     "data": {
      "text/plain": [
       "98"
      ]
     },
     "execution_count": 15,
     "metadata": {},
     "output_type": "execute_result"
    }
   ],
   "source": [
    "len(us_allfeature)"
   ]
  },
  {
   "cell_type": "code",
   "execution_count": 22,
   "metadata": {},
   "outputs": [],
   "source": [
    "pd.DataFrame(us_allfeature).to_csv(\"result/us/allfeature.txt\",header=None,index=None)"
   ]
  },
  {
   "cell_type": "code",
   "execution_count": null,
   "metadata": {},
   "outputs": [],
   "source": []
  },
  {
   "cell_type": "code",
   "execution_count": 42,
   "metadata": {},
   "outputs": [],
   "source": [
    "cpod_trueY=pd.read_csv(\"result/cpod/trueY.txt\",header=None)[0]"
   ]
  },
  {
   "cell_type": "code",
   "execution_count": 43,
   "metadata": {},
   "outputs": [],
   "source": [
    "cpod_pred=pd.read_csv(\"result/cpod/preds.txt\",header=None)[0]"
   ]
  },
  {
   "cell_type": "code",
   "execution_count": 44,
   "metadata": {},
   "outputs": [],
   "source": [
    "cpod_pred20=pd.read_csv(\"result/cpod/preds_top20.txt\",header=None)[0]"
   ]
  },
  {
   "cell_type": "code",
   "execution_count": 45,
   "metadata": {},
   "outputs": [
    {
     "data": {
      "text/plain": [
       "0   -0.000588\n",
       "1   -0.000588\n",
       "2   -0.000758\n",
       "3   -0.000758\n",
       "4   -0.000588\n",
       "Name: 0, dtype: float64"
      ]
     },
     "execution_count": 45,
     "metadata": {},
     "output_type": "execute_result"
    }
   ],
   "source": [
    "cpod_pred.head()"
   ]
  },
  {
   "cell_type": "code",
   "execution_count": 46,
   "metadata": {},
   "outputs": [
    {
     "data": {
      "text/plain": [
       "40789868"
      ]
     },
     "execution_count": 46,
     "metadata": {},
     "output_type": "execute_result"
    }
   ],
   "source": [
    "len(cpod_pred20)"
   ]
  },
  {
   "cell_type": "code",
   "execution_count": 51,
   "metadata": {},
   "outputs": [],
   "source": [
    "rmse=(((cpod_pred-cpod_trueY)**2).sum()/len(cpod_pred20))**0.5"
   ]
  },
  {
   "cell_type": "code",
   "execution_count": 52,
   "metadata": {},
   "outputs": [],
   "source": [
    "rmse20=(((cpod_pred20-cpod_trueY)**2).sum()/len(cpod_pred20))**0.5"
   ]
  },
  {
   "cell_type": "code",
   "execution_count": 53,
   "metadata": {},
   "outputs": [
    {
     "data": {
      "text/plain": [
       "0.11185116617780548"
      ]
     },
     "execution_count": 53,
     "metadata": {},
     "output_type": "execute_result"
    }
   ],
   "source": [
    "rmse20"
   ]
  },
  {
   "cell_type": "code",
   "execution_count": 54,
   "metadata": {},
   "outputs": [
    {
     "data": {
      "text/plain": [
       "0.11214546111170468"
      ]
     },
     "execution_count": 54,
     "metadata": {},
     "output_type": "execute_result"
    }
   ],
   "source": [
    "rmse"
   ]
  },
  {
   "cell_type": "code",
   "execution_count": null,
   "metadata": {},
   "outputs": [],
   "source": []
  },
  {
   "cell_type": "code",
   "execution_count": null,
   "metadata": {},
   "outputs": [],
   "source": []
  },
  {
   "cell_type": "code",
   "execution_count": null,
   "metadata": {},
   "outputs": [],
   "source": []
  }
 ],
 "metadata": {
  "kernelspec": {
   "display_name": "Python 3",
   "language": "python",
   "name": "python3"
  },
  "language_info": {
   "codemirror_mode": {
    "name": "ipython",
    "version": 3
   },
   "file_extension": ".py",
   "mimetype": "text/x-python",
   "name": "python",
   "nbconvert_exporter": "python",
   "pygments_lexer": "ipython3",
   "version": "3.6.5"
  }
 },
 "nbformat": 4,
 "nbformat_minor": 2
}
