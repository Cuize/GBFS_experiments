{
 "cells": [
  {
   "cell_type": "code",
   "execution_count": 1,
   "metadata": {},
   "outputs": [],
   "source": [
    "import pandas as pd\n",
    "import numpy as np"
   ]
  },
  {
   "cell_type": "code",
   "execution_count": 12,
   "metadata": {},
   "outputs": [],
   "source": [
    "# make entire query asin pair all in training or testing to do ranked precision/recall\n",
    "data_path=\"data/\"\n",
    "data_name=\"us\""
   ]
  },
  {
   "cell_type": "code",
   "execution_count": 13,
   "metadata": {},
   "outputs": [],
   "source": [
    "train=pd.read_csv(data_path+data_name+\"_train.tsv\",sep=\"\\t\")\n",
    "test=pd.read_csv(data_path+data_name+\"_test.tsv\",sep=\"\\t\")"
   ]
  },
  {
   "cell_type": "code",
   "execution_count": 14,
   "metadata": {},
   "outputs": [],
   "source": [
    "all_data=pd.concat([train,test],ignore_index=True)"
   ]
  },
  {
   "cell_type": "code",
   "execution_count": 15,
   "metadata": {},
   "outputs": [],
   "source": [
    "queries=all_data[\"keyword\"].unique()"
   ]
  },
  {
   "cell_type": "code",
   "execution_count": 16,
   "metadata": {},
   "outputs": [
    {
     "data": {
      "text/plain": [
       "3.8241020476670022"
      ]
     },
     "execution_count": 16,
     "metadata": {},
     "output_type": "execute_result"
    }
   ],
   "source": [
    "len(all_data)/len(queries)"
   ]
  },
  {
   "cell_type": "code",
   "execution_count": null,
   "metadata": {},
   "outputs": [],
   "source": []
  },
  {
   "cell_type": "code",
   "execution_count": 106,
   "metadata": {},
   "outputs": [],
   "source": [
    "np.random.seed(1)\n",
    "test_queries=set(np.random.choice(queries,replace=False,size=(len(test)*len(queries))//len(all_data)))"
   ]
  },
  {
   "cell_type": "code",
   "execution_count": null,
   "metadata": {},
   "outputs": [],
   "source": []
  },
  {
   "cell_type": "code",
   "execution_count": null,
   "metadata": {},
   "outputs": [],
   "source": []
  },
  {
   "cell_type": "code",
   "execution_count": 107,
   "metadata": {},
   "outputs": [],
   "source": [
    "test_data=all_data[[query in test_queries for query in all_data[\"keyword\"]]]"
   ]
  },
  {
   "cell_type": "code",
   "execution_count": 108,
   "metadata": {},
   "outputs": [],
   "source": [
    "train_data=all_data[[query not in test_queries for query in all_data[\"keyword\"]]]"
   ]
  },
  {
   "cell_type": "code",
   "execution_count": 109,
   "metadata": {},
   "outputs": [
    {
     "data": {
      "text/plain": [
       "(0.11747138964577657, 0.11019913157410315)"
      ]
     },
     "execution_count": 109,
     "metadata": {},
     "output_type": "execute_result"
    }
   ],
   "source": [
    "len(test_data)/len(train_data),len(test)/len(train)"
   ]
  },
  {
   "cell_type": "code",
   "execution_count": null,
   "metadata": {},
   "outputs": [],
   "source": []
  },
  {
   "cell_type": "code",
   "execution_count": 110,
   "metadata": {},
   "outputs": [],
   "source": [
    "test_data.to_csv(data_path+data_name+\"_test.tsv\",sep=\"\\t\",index=False)\n",
    "train_data.to_csv(data_path+data_name+\"_train.tsv\",sep=\"\\t\",index=False)"
   ]
  },
  {
   "cell_type": "code",
   "execution_count": null,
   "metadata": {},
   "outputs": [],
   "source": [
    "## madelon dataset"
   ]
  },
  {
   "cell_type": "code",
   "execution_count": 4,
   "metadata": {},
   "outputs": [],
   "source": [
    "data_path=\"data/\"\n",
    "data_name=\"madelon\""
   ]
  },
  {
   "cell_type": "code",
   "execution_count": 5,
   "metadata": {},
   "outputs": [],
   "source": [
    "train=pd.read_csv(data_path+data_name+\"_train.txt\",sep=\" \",header=None)\n",
    "test=pd.read_csv(data_path+data_name+\"_test.txt\",sep=\" \",header=None)"
   ]
  },
  {
   "cell_type": "code",
   "execution_count": 6,
   "metadata": {},
   "outputs": [
    {
     "data": {
      "text/html": [
       "<div>\n",
       "<style scoped>\n",
       "    .dataframe tbody tr th:only-of-type {\n",
       "        vertical-align: middle;\n",
       "    }\n",
       "\n",
       "    .dataframe tbody tr th {\n",
       "        vertical-align: top;\n",
       "    }\n",
       "\n",
       "    .dataframe thead th {\n",
       "        text-align: right;\n",
       "    }\n",
       "</style>\n",
       "<table border=\"1\" class=\"dataframe\">\n",
       "  <thead>\n",
       "    <tr style=\"text-align: right;\">\n",
       "      <th></th>\n",
       "      <th>0</th>\n",
       "      <th>1</th>\n",
       "      <th>2</th>\n",
       "      <th>3</th>\n",
       "      <th>4</th>\n",
       "      <th>5</th>\n",
       "      <th>6</th>\n",
       "      <th>7</th>\n",
       "      <th>8</th>\n",
       "      <th>9</th>\n",
       "      <th>...</th>\n",
       "      <th>491</th>\n",
       "      <th>492</th>\n",
       "      <th>493</th>\n",
       "      <th>494</th>\n",
       "      <th>495</th>\n",
       "      <th>496</th>\n",
       "      <th>497</th>\n",
       "      <th>498</th>\n",
       "      <th>499</th>\n",
       "      <th>500</th>\n",
       "    </tr>\n",
       "  </thead>\n",
       "  <tbody>\n",
       "    <tr>\n",
       "      <th>0</th>\n",
       "      <td>-1</td>\n",
       "      <td>1:485</td>\n",
       "      <td>2:477</td>\n",
       "      <td>3:537</td>\n",
       "      <td>4:479</td>\n",
       "      <td>5:452</td>\n",
       "      <td>6:471</td>\n",
       "      <td>7:491</td>\n",
       "      <td>8:476</td>\n",
       "      <td>9:475</td>\n",
       "      <td>...</td>\n",
       "      <td>491:477</td>\n",
       "      <td>492:481</td>\n",
       "      <td>493:477</td>\n",
       "      <td>494:485</td>\n",
       "      <td>495:511</td>\n",
       "      <td>496:485</td>\n",
       "      <td>497:481</td>\n",
       "      <td>498:479</td>\n",
       "      <td>499:475</td>\n",
       "      <td>500:496</td>\n",
       "    </tr>\n",
       "    <tr>\n",
       "      <th>1</th>\n",
       "      <td>-1</td>\n",
       "      <td>1:483</td>\n",
       "      <td>2:458</td>\n",
       "      <td>3:460</td>\n",
       "      <td>4:487</td>\n",
       "      <td>5:587</td>\n",
       "      <td>6:475</td>\n",
       "      <td>7:526</td>\n",
       "      <td>8:479</td>\n",
       "      <td>9:485</td>\n",
       "      <td>...</td>\n",
       "      <td>491:463</td>\n",
       "      <td>492:478</td>\n",
       "      <td>493:487</td>\n",
       "      <td>494:338</td>\n",
       "      <td>495:513</td>\n",
       "      <td>496:486</td>\n",
       "      <td>497:483</td>\n",
       "      <td>498:492</td>\n",
       "      <td>499:510</td>\n",
       "      <td>500:517</td>\n",
       "    </tr>\n",
       "    <tr>\n",
       "      <th>2</th>\n",
       "      <td>-1</td>\n",
       "      <td>1:487</td>\n",
       "      <td>2:542</td>\n",
       "      <td>3:499</td>\n",
       "      <td>4:468</td>\n",
       "      <td>5:448</td>\n",
       "      <td>6:471</td>\n",
       "      <td>7:442</td>\n",
       "      <td>8:478</td>\n",
       "      <td>9:480</td>\n",
       "      <td>...</td>\n",
       "      <td>491:487</td>\n",
       "      <td>492:481</td>\n",
       "      <td>493:492</td>\n",
       "      <td>494:650</td>\n",
       "      <td>495:506</td>\n",
       "      <td>496:501</td>\n",
       "      <td>497:480</td>\n",
       "      <td>498:489</td>\n",
       "      <td>499:499</td>\n",
       "      <td>500:498</td>\n",
       "    </tr>\n",
       "    <tr>\n",
       "      <th>3</th>\n",
       "      <td>1</td>\n",
       "      <td>1:480</td>\n",
       "      <td>2:491</td>\n",
       "      <td>3:510</td>\n",
       "      <td>4:485</td>\n",
       "      <td>5:495</td>\n",
       "      <td>6:472</td>\n",
       "      <td>7:417</td>\n",
       "      <td>8:474</td>\n",
       "      <td>9:502</td>\n",
       "      <td>...</td>\n",
       "      <td>491:491</td>\n",
       "      <td>492:480</td>\n",
       "      <td>493:474</td>\n",
       "      <td>494:572</td>\n",
       "      <td>495:454</td>\n",
       "      <td>496:469</td>\n",
       "      <td>497:475</td>\n",
       "      <td>498:482</td>\n",
       "      <td>499:494</td>\n",
       "      <td>500:461</td>\n",
       "    </tr>\n",
       "    <tr>\n",
       "      <th>4</th>\n",
       "      <td>1</td>\n",
       "      <td>1:484</td>\n",
       "      <td>2:502</td>\n",
       "      <td>3:528</td>\n",
       "      <td>4:489</td>\n",
       "      <td>5:466</td>\n",
       "      <td>6:481</td>\n",
       "      <td>7:402</td>\n",
       "      <td>8:478</td>\n",
       "      <td>9:487</td>\n",
       "      <td>...</td>\n",
       "      <td>491:488</td>\n",
       "      <td>492:479</td>\n",
       "      <td>493:452</td>\n",
       "      <td>494:435</td>\n",
       "      <td>495:486</td>\n",
       "      <td>496:508</td>\n",
       "      <td>497:481</td>\n",
       "      <td>498:504</td>\n",
       "      <td>499:495</td>\n",
       "      <td>500:511</td>\n",
       "    </tr>\n",
       "  </tbody>\n",
       "</table>\n",
       "<p>5 rows × 501 columns</p>\n",
       "</div>"
      ],
      "text/plain": [
       "   0      1      2      3      4      5      6      7      8      9    \\\n",
       "0   -1  1:485  2:477  3:537  4:479  5:452  6:471  7:491  8:476  9:475   \n",
       "1   -1  1:483  2:458  3:460  4:487  5:587  6:475  7:526  8:479  9:485   \n",
       "2   -1  1:487  2:542  3:499  4:468  5:448  6:471  7:442  8:478  9:480   \n",
       "3    1  1:480  2:491  3:510  4:485  5:495  6:472  7:417  8:474  9:502   \n",
       "4    1  1:484  2:502  3:528  4:489  5:466  6:481  7:402  8:478  9:487   \n",
       "\n",
       "    ...         491      492      493      494      495      496      497  \\\n",
       "0   ...     491:477  492:481  493:477  494:485  495:511  496:485  497:481   \n",
       "1   ...     491:463  492:478  493:487  494:338  495:513  496:486  497:483   \n",
       "2   ...     491:487  492:481  493:492  494:650  495:506  496:501  497:480   \n",
       "3   ...     491:491  492:480  493:474  494:572  495:454  496:469  497:475   \n",
       "4   ...     491:488  492:479  493:452  494:435  495:486  496:508  497:481   \n",
       "\n",
       "       498      499      500  \n",
       "0  498:479  499:475  500:496  \n",
       "1  498:492  499:510  500:517  \n",
       "2  498:489  499:499  500:498  \n",
       "3  498:482  499:494  500:461  \n",
       "4  498:504  499:495  500:511  \n",
       "\n",
       "[5 rows x 501 columns]"
      ]
     },
     "execution_count": 6,
     "metadata": {},
     "output_type": "execute_result"
    }
   ],
   "source": [
    "train.head()"
   ]
  },
  {
   "cell_type": "code",
   "execution_count": 7,
   "metadata": {},
   "outputs": [],
   "source": [
    "train_data=train.iloc[:,1:].apply(lambda col: [int(r.split(\":\")[1]) for r in col])"
   ]
  },
  {
   "cell_type": "code",
   "execution_count": 8,
   "metadata": {},
   "outputs": [],
   "source": [
    "train_data[0]=[ int(x>0) for x in train[0]]"
   ]
  },
  {
   "cell_type": "code",
   "execution_count": 9,
   "metadata": {},
   "outputs": [],
   "source": [
    "test_data=test.iloc[:,1:].apply(lambda col: [int(r.split(\":\")[1]) for r in col])"
   ]
  },
  {
   "cell_type": "code",
   "execution_count": 10,
   "metadata": {},
   "outputs": [],
   "source": [
    "test_data[0]=[ int(x>0) for x in test[0]]"
   ]
  },
  {
   "cell_type": "code",
   "execution_count": 11,
   "metadata": {},
   "outputs": [],
   "source": [
    "test_data.rename(columns={0:\"label\"},inplace=True)"
   ]
  },
  {
   "cell_type": "code",
   "execution_count": 12,
   "metadata": {},
   "outputs": [],
   "source": [
    "train_data.rename(columns={0:\"label\"},inplace=True)"
   ]
  },
  {
   "cell_type": "code",
   "execution_count": null,
   "metadata": {},
   "outputs": [],
   "source": []
  },
  {
   "cell_type": "code",
   "execution_count": 15,
   "metadata": {},
   "outputs": [],
   "source": [
    "test_data.to_csv(data_path+data_name+\"_test.tsv\",index=None,sep=\"\\t\")\n",
    "train_data.to_csv(data_path+data_name+\"_train.tsv\",index=None,sep=\"\\t\")"
   ]
  },
  {
   "cell_type": "code",
   "execution_count": null,
   "metadata": {},
   "outputs": [],
   "source": []
  },
  {
   "cell_type": "code",
   "execution_count": null,
   "metadata": {},
   "outputs": [],
   "source": [
    "## gisette_scale data"
   ]
  },
  {
   "cell_type": "code",
   "execution_count": 17,
   "metadata": {},
   "outputs": [],
   "source": [
    "data_path=\"data/\"\n",
    "data_name=\"gisette_scale\""
   ]
  },
  {
   "cell_type": "code",
   "execution_count": 18,
   "metadata": {},
   "outputs": [],
   "source": [
    "train=pd.read_csv(data_path+data_name+\"_train.txt\",sep=\" \",header=None)\n",
    "test=pd.read_csv(data_path+data_name+\"_test.txt\",sep=\" \",header=None)"
   ]
  },
  {
   "cell_type": "code",
   "execution_count": 80,
   "metadata": {},
   "outputs": [],
   "source": [
    "train_data=train.apply(lambda col: [ float(r.split(\":\")[1]) if type(r)==str and \":\" in r else r for r in col])"
   ]
  },
  {
   "cell_type": "code",
   "execution_count": 84,
   "metadata": {},
   "outputs": [],
   "source": [
    "train_data[0]=[ int(x>0) for x in train_data[0]]"
   ]
  },
  {
   "cell_type": "code",
   "execution_count": 85,
   "metadata": {},
   "outputs": [],
   "source": [
    "test_data=test.apply(lambda col: [ float(r.split(\":\")[1]) if type(r)==str and \":\" in r else r for r in col])"
   ]
  },
  {
   "cell_type": "code",
   "execution_count": 86,
   "metadata": {},
   "outputs": [],
   "source": [
    "test_data[0]=[ int(x>0) for x in test_data[0]]"
   ]
  },
  {
   "cell_type": "code",
   "execution_count": 92,
   "metadata": {},
   "outputs": [],
   "source": [
    "# test_data has more columns than train_data?"
   ]
  },
  {
   "cell_type": "code",
   "execution_count": 93,
   "metadata": {},
   "outputs": [],
   "source": [
    "test_data.rename(columns={0:\"label\"},inplace=True)\n",
    "train_data.rename(columns={0:\"label\"},inplace=True)"
   ]
  },
  {
   "cell_type": "code",
   "execution_count": 97,
   "metadata": {},
   "outputs": [],
   "source": [
    "test_data=test_data.iloc[:,:4957]"
   ]
  },
  {
   "cell_type": "code",
   "execution_count": 99,
   "metadata": {},
   "outputs": [
    {
     "data": {
      "text/plain": [
       "((1000, 4957), (6000, 4957))"
      ]
     },
     "execution_count": 99,
     "metadata": {},
     "output_type": "execute_result"
    }
   ],
   "source": [
    "test_data.shape,train_data.shape"
   ]
  },
  {
   "cell_type": "code",
   "execution_count": 100,
   "metadata": {},
   "outputs": [],
   "source": [
    "test_data.to_csv(data_path+data_name+\"_test.tsv\",index=None,sep=\"\\t\")\n",
    "train_data.to_csv(data_path+data_name+\"_train.tsv\",index=None,sep=\"\\t\")"
   ]
  },
  {
   "cell_type": "code",
   "execution_count": null,
   "metadata": {},
   "outputs": [],
   "source": []
  },
  {
   "cell_type": "code",
   "execution_count": 1,
   "metadata": {},
   "outputs": [],
   "source": [
    "import pandas as pd\n",
    "import numpy as np\n",
    "from os import listdir"
   ]
  },
  {
   "cell_type": "code",
   "execution_count": 2,
   "metadata": {},
   "outputs": [],
   "source": [
    "train=\"data/gisette_scale_train.tsv\"\n",
    "test=\"data/gisette_scale_test.tsv\"\n",
    "response_name=\"label\"\n",
    "folder=\"result/gisette_scale\""
   ]
  },
  {
   "cell_type": "code",
   "execution_count": 3,
   "metadata": {},
   "outputs": [],
   "source": [
    "train=pd.read_csv(train,sep=\"\\t\")\n",
    "train_names=list(train.columns.values)\n",
    "file_names=listdir(folder)"
   ]
  },
  {
   "cell_type": "code",
   "execution_count": 6,
   "metadata": {},
   "outputs": [],
   "source": [
    "allfeature=set(pd.read_csv(folder+\"/allfeature.txt\",header=None)[0])"
   ]
  },
  {
   "cell_type": "code",
   "execution_count": 12,
   "metadata": {},
   "outputs": [
    {
     "data": {
      "text/plain": [
       "{'1', '2', '3', '4', '5', '6', '7', '8', '9'}"
      ]
     },
     "execution_count": 12,
     "metadata": {},
     "output_type": "execute_result"
    }
   ],
   "source": [
    "set(str(x) for x in allfeature)"
   ]
  },
  {
   "cell_type": "code",
   "execution_count": 15,
   "metadata": {},
   "outputs": [
    {
     "data": {
      "text/plain": [
       "98"
      ]
     },
     "execution_count": 15,
     "metadata": {},
     "output_type": "execute_result"
    }
   ],
   "source": [
    "len(us_allfeature)"
   ]
  },
  {
   "cell_type": "code",
   "execution_count": 22,
   "metadata": {},
   "outputs": [],
   "source": [
    "pd.DataFrame(us_allfeature).to_csv(\"result/us/allfeature.txt\",header=None,index=None)"
   ]
  },
  {
   "cell_type": "code",
   "execution_count": null,
   "metadata": {},
   "outputs": [],
   "source": []
  },
  {
   "cell_type": "code",
   "execution_count": null,
   "metadata": {},
   "outputs": [],
   "source": []
  },
  {
   "cell_type": "code",
   "execution_count": null,
   "metadata": {},
   "outputs": [],
   "source": []
  },
  {
   "cell_type": "code",
   "execution_count": null,
   "metadata": {},
   "outputs": [],
   "source": []
  },
  {
   "cell_type": "code",
   "execution_count": null,
   "metadata": {},
   "outputs": [],
   "source": []
  },
  {
   "cell_type": "code",
   "execution_count": null,
   "metadata": {},
   "outputs": [],
   "source": []
  }
 ],
 "metadata": {
  "kernelspec": {
   "display_name": "Python 3",
   "language": "python",
   "name": "python3"
  },
  "language_info": {
   "codemirror_mode": {
    "name": "ipython",
    "version": 3
   },
   "file_extension": ".py",
   "mimetype": "text/x-python",
   "name": "python",
   "nbconvert_exporter": "python",
   "pygments_lexer": "ipython3",
   "version": "3.6.5"
  }
 },
 "nbformat": 4,
 "nbformat_minor": 2
}
